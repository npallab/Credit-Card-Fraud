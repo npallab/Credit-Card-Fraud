{
  "nbformat": 4,
  "nbformat_minor": 0,
  "metadata": {
    "colab": {
      "provenance": []
    },
    "kernelspec": {
      "name": "python3",
      "display_name": "Python 3"
    },
    "language_info": {
      "name": "python"
    }
  },
  "cells": [
    {
      "cell_type": "code",
      "execution_count": null,
      "metadata": {
        "id": "Tt5wM78uCf4r"
      },
      "outputs": [],
      "source": [
        "import numpy as np\n",
        "import pandas as pd\n",
        "import pickle as pkl\n",
        "import warnings\n",
        "warnings.filterwarnings('ignore')"
      ]
    },
    {
      "cell_type": "code",
      "source": [
        "enocder=pkl.load(open('/content/encoder.pkl','rb'))\n",
        "model=pkl.load(open('/content/classifier.pkl','rb'))\n",
        "vectoriser=pkl.load(open('/content/vectoriser.pkl','rb'))\n",
        "scaler=pkl.load(open('/content/scaler.pkl','rb'))"
      ],
      "metadata": {
        "id": "GNuAJ4TxCriu"
      },
      "execution_count": null,
      "outputs": []
    },
    {
      "cell_type": "code",
      "source": [
        "import numpy as np\n",
        "\n",
        "def predict(amount, transaction_type, location, merchant_id):\n",
        "    # Scale the amount\n",
        "    amount_scaled = scaler.transform(np.array(amount).reshape(1, -1))\n",
        "\n",
        "    # Encode transaction type and location\n",
        "    type_loc = np.array([[transaction_type, location]])\n",
        "    type_loc_encoded = enocder.transform(type_loc).toarray()\n",
        "\n",
        "    # Encode merchant ID\n",
        "    merchant_id_encoded = vectoriser.transform([merchant_id]).toarray()\n",
        "\n",
        "    # Concatenate all features\n",
        "    input_features = np.concatenate((amount_scaled, type_loc_encoded, merchant_id_encoded), axis=1)\n",
        "\n",
        "    # Predict using the trained model\n",
        "    prediction = model.predict(input_features)\n",
        "    if prediction[0]==0:\n",
        "        prediction='Not Fraud'\n",
        "    else:\n",
        "        prediction='Fraud'\n",
        "    return prediction\n"
      ],
      "metadata": {
        "id": "N25oA50oDduG"
      },
      "execution_count": null,
      "outputs": []
    },
    {
      "cell_type": "code",
      "source": [
        "import gradio as gr\n",
        "app = gr.Interface(\n",
        "    fn=predict,\n",
        "    inputs=[\n",
        "        gr.Number(label=\"Amount\"),\n",
        "        gr.Dropdown(choices=[\"refund\", \"purchase\"], label=\"Transaction Type\"),\n",
        "        gr.Dropdown(\n",
        "            choices=[\"Chicago\", \"Dallas\", \"Houston\", \"Los Angeles\", \"New York\",\n",
        "                     \"Philadelphia\", \"Phoenix\", \"San Antonio\", \"San Diego\", \"San Jose\"],\n",
        "            label=\"Location\"\n",
        "        ),\n",
        "        gr.Textbox(label=\"Merchant ID\")\n",
        "    ],\n",
        "    outputs=\"text\",\n",
        "    title=\"Credit Card Fraud Detection\",\n",
        "    description=\"Predict if a transaction is fraudulent based on the amount, transaction type, location, and merchant ID.\",theme='Ocean'\n",
        ")\n",
        "\n",
        "# Launch the app\n",
        "app.launch()"
      ],
      "metadata": {
        "colab": {
          "base_uri": "https://localhost:8080/",
          "height": 648
        },
        "id": "RGiRH4WnEd5C",
        "outputId": "c4290a40-af71-421c-90d8-a8793a34d2fc"
      },
      "execution_count": null,
      "outputs": [
        {
          "output_type": "stream",
          "name": "stdout",
          "text": [
            "Running Gradio in a Colab notebook requires sharing enabled. Automatically setting `share=True` (you can turn this off by setting `share=False` in `launch()` explicitly).\n",
            "\n",
            "Colab notebook detected. To show errors in colab notebook, set debug=True in launch()\n",
            "* Running on public URL: https://22c503ba9d33979e9b.gradio.live\n",
            "\n",
            "This share link expires in 72 hours. For free permanent hosting and GPU upgrades, run `gradio deploy` from the terminal in the working directory to deploy to Hugging Face Spaces (https://huggingface.co/spaces)\n"
          ]
        },
        {
          "output_type": "display_data",
          "data": {
            "text/plain": [
              "<IPython.core.display.HTML object>"
            ],
            "text/html": [
              "<div><iframe src=\"https://22c503ba9d33979e9b.gradio.live\" width=\"100%\" height=\"500\" allow=\"autoplay; camera; microphone; clipboard-read; clipboard-write;\" frameborder=\"0\" allowfullscreen></iframe></div>"
            ]
          },
          "metadata": {}
        },
        {
          "output_type": "execute_result",
          "data": {
            "text/plain": []
          },
          "metadata": {},
          "execution_count": 22
        }
      ]
    },
    {
      "cell_type": "code",
      "source": [],
      "metadata": {
        "id": "vLj-f_JrGbFM"
      },
      "execution_count": null,
      "outputs": []
    }
  ]
}